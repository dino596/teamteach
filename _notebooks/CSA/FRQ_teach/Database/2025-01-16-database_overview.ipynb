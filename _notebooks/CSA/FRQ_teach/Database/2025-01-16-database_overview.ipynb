{
 "cells": [
  {
   "cell_type": "markdown",
   "metadata": {},
   "source": [
    "---\n",
    "layout: post\n",
    "toc: true\n",
    "title: Database Team Teach\n",
    "description: Lesson for class FRQs\n",
    "categories: [AP CSA]\n",
    "courses: { csa: {week: 17} }\n",
    "type: ccc\n",
    "author: Arthur, Nikhil, Aditya\n",
    "permalink: /period3/frq/database\n",
    "---"
   ]
  },
  {
   "cell_type": "markdown",
   "metadata": {},
   "source": [
    "overview here"
   ]
  }
 ],
 "metadata": {
  "language_info": {
   "name": "python"
  }
 },
 "nbformat": 4,
 "nbformat_minor": 2
}
