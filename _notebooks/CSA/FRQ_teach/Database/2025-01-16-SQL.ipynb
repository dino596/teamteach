{
 "cells": [
  {
   "cell_type": "markdown",
   "metadata": {},
   "source": [
    "---\n",
    "layout: post\n",
    "toc: true\n",
    "title: Amazon RDS\n",
    "categories: [AP CSA]\n",
    "courses: { csa: {week: 17} }\n",
    "author: Arthur, Nikhil, Aditya\n",
    "permalink: /period3/frq/database/sql\n",
    "---"
   ]
  },
  {
   "cell_type": "markdown",
   "metadata": {},
   "source": [
    "# SQLite"
   ]
  },
  {
   "cell_type": "markdown",
   "metadata": {},
   "source": [
    "SQLite is a lightweight, serverless **database** stored in a single file. It follows SQL standards, and can be used in a variety of applications. "
   ]
  },
  {
   "cell_type": "markdown",
   "metadata": {},
   "source": [
    "## Creating a New Table\n",
    "\n",
    "```\n",
    "CREATE TABLE table_name (\n",
    "    column1 type, \n",
    "    column2 type, \n",
    "    column3 type\n",
    ");\n",
    "```\n",
    "### Example data types in SQL:\n",
    "```\n",
    "VARCHAR\n",
    "INTEGER\n",
    "FLOAT\n",
    "```\n",
    "[More Example Types](https://www.geeksforgeeks.org/sql-data-types/)\n",
    "\n",
    "## Deleting Tables\n",
    "\n",
    "```\n",
    "DROP TABLE <table name>;\n",
    "```\n",
    "\n",
    "## Populating Tables\n",
    "```\n",
    "INSERT INTO table_name\n",
    "VALUES ('John', 92, A, 14)\n",
    "```\n",
    "## Modifying Entries\n",
    "```\n",
    "%%sql\n",
    "UPDATE students\n",
    "SET assignment_grade = 90.0\n",
    "WHERE student_name = 'Tommy';\n",
    "```\n",
    "\n",
    "or\n",
    "```\n",
    "INSERT INTO table_name (name, score, grade, age)\n",
    "VALUES ('John', 92, A, 14)\n",
    "```\n",
    "\n",
    "## Querying\n",
    "\n",
    "### Selecting all rows from a table:\n",
    "```\n",
    "SELECT *\n",
    "FROM table_name;\n",
    "```\n",
    "\n",
    "You can also specify specific columns to query as well by replacing the * with column names\n",
    "\n",
    "```\n",
    "SELECT name, (score-10) as late_score, age\n",
    "FROM table_name;\n",
    "```\n",
    "\n",
    "More advanced queries can also be created:\n",
    "```\n",
    "SELECT *\n",
    "FROM table_name\n",
    "WHERE grade = 'A'\n",
    "AND age = 14;\n",
    "```"
   ]
  },
  {
   "cell_type": "markdown",
   "metadata": {},
   "source": [
    "## Popcorn Hack: Write SQL Queries\n",
    "Given the following table named `Employees`:\n",
    "\n",
    "|EmpID   |Name   |Age     |Department|\n",
    "|--------|-------|--------|----------|\n",
    "|101     |Alice  |30      |HR        |\n",
    "|102     |Bob    |25      |IT        |\n",
    "|103     |Carol  |28      |Finance   |\n",
    "\n",
    "Write SQL queries to:\n",
    "\n",
    "1. Retrieve all employees working in the IT department.<br>\n",
    "2. Add a new employee: `EmpID = 104, Name = Dave, Age = 26, Department = IT.`<br>\n",
    "3. Delete the record of the employee named Carol."
   ]
  },
  {
   "cell_type": "code",
   "execution_count": 2,
   "metadata": {},
   "outputs": [
    {
     "name": "stdout",
     "output_type": "stream",
     "text": [
      "Defaulting to user installation because normal site-packages is not writeable\n",
      "Requirement already satisfied: prettytable in /home/nikhil/.local/lib/python3.10/site-packages (3.15.1)\n",
      "Requirement already satisfied: wcwidth in /usr/lib/python3/dist-packages (from prettytable) (0.2.5)\n",
      "Note: you may need to restart the kernel to use updated packages.\n"
     ]
    }
   ],
   "source": [
    "%pip install --upgrade prettytable"
   ]
  },
  {
   "cell_type": "code",
   "execution_count": 1,
   "metadata": {},
   "outputs": [
    {
     "name": "stdout",
     "output_type": "stream",
     "text": [
      "Defaulting to user installation because normal site-packages is not writeable\n",
      "Requirement already satisfied: ipython-sql in /home/nikhil/.local/lib/python3.10/site-packages (0.5.0)\n",
      "Requirement already satisfied: six in /usr/lib/python3/dist-packages (from ipython-sql) (1.16.0)\n",
      "Requirement already satisfied: ipython in /usr/lib/python3/dist-packages (from ipython-sql) (7.31.1)\n",
      "Requirement already satisfied: sqlparse in /home/nikhil/.local/lib/python3.10/site-packages (from ipython-sql) (0.5.3)\n",
      "Requirement already satisfied: ipython-genutils in /usr/lib/python3/dist-packages (from ipython-sql) (0.2.0)\n",
      "Requirement already satisfied: prettytable in /home/nikhil/.local/lib/python3.10/site-packages (from ipython-sql) (3.15.1)\n",
      "Requirement already satisfied: sqlalchemy>=2.0 in /home/nikhil/.local/lib/python3.10/site-packages (from ipython-sql) (2.0.37)\n",
      "Requirement already satisfied: typing-extensions>=4.6.0 in /home/nikhil/.local/lib/python3.10/site-packages (from sqlalchemy>=2.0->ipython-sql) (4.12.2)\n",
      "Requirement already satisfied: greenlet!=0.4.17 in /home/nikhil/.local/lib/python3.10/site-packages (from sqlalchemy>=2.0->ipython-sql) (3.1.1)\n",
      "Requirement already satisfied: wcwidth in /usr/lib/python3/dist-packages (from prettytable->ipython-sql) (0.2.5)\n",
      "Note: you may need to restart the kernel to use updated packages.\n"
     ]
    }
   ],
   "source": [
    "%pip install ipython-sql\n",
    "import sqlite3\n"
   ]
  },
  {
   "cell_type": "code",
   "execution_count": 3,
   "metadata": {},
   "outputs": [],
   "source": [
    "conn = sqlite3.connect('mydatabase.db')"
   ]
  },
  {
   "cell_type": "code",
   "execution_count": 4,
   "metadata": {},
   "outputs": [],
   "source": [
    "%reload_ext sql"
   ]
  },
  {
   "cell_type": "code",
   "execution_count": 5,
   "metadata": {
    "vscode": {
     "languageId": "sql"
    }
   },
   "outputs": [],
   "source": [
    "# Connect to the SQLite database\n",
    "%sql sqlite:///mydatabase.db\n",
    "\n",
    "%config SqlMagic.style = '_DEPRECATED_DEFAULT'"
   ]
  },
  {
   "cell_type": "code",
   "execution_count": 6,
   "metadata": {
    "vscode": {
     "languageId": "sql"
    }
   },
   "outputs": [
    {
     "name": "stdout",
     "output_type": "stream",
     "text": [
      " * sqlite:///mydatabase.db\n",
      "(sqlite3.OperationalError) table students already exists\n",
      "[SQL: CREATE TABLE students (\n",
      "    student_name VARCHAR,\n",
      "    age INTEGER,\n",
      "    assignment_grade FLOAT\n",
      ");]\n",
      "(Background on this error at: https://sqlalche.me/e/20/e3q8)\n"
     ]
    }
   ],
   "source": [
    "%%sql\n",
    "CREATE TABLE students (\n",
    "    student_name VARCHAR,\n",
    "    age INTEGER,\n",
    "    assignment_grade FLOAT\n",
    ");"
   ]
  },
  {
   "cell_type": "code",
   "execution_count": 7,
   "metadata": {
    "vscode": {
     "languageId": "sql"
    }
   },
   "outputs": [
    {
     "name": "stdout",
     "output_type": "stream",
     "text": [
      " * sqlite:///mydatabase.db\n",
      "1 rows affected.\n",
      "1 rows affected.\n",
      "1 rows affected.\n",
      "1 rows affected.\n",
      "1 rows affected.\n",
      "1 rows affected.\n"
     ]
    },
    {
     "data": {
      "text/plain": [
       "[]"
      ]
     },
     "execution_count": 7,
     "metadata": {},
     "output_type": "execute_result"
    }
   ],
   "source": [
    "%%sql\n",
    "INSERT INTO students (student_name, age, assignment_grade) \n",
    "VALUES ('Tommy', 14, 85.5);\n",
    "\n",
    "INSERT INTO students (student_name, age, assignment_grade) VALUES ('Emily', 15, 89.0);\n",
    "INSERT INTO students (student_name, age, assignment_grade) VALUES ('Michael', 16, 91.0);\n",
    "INSERT INTO students (student_name, age, assignment_grade) VALUES ('Sarah', 14, 87.5);\n",
    "INSERT INTO students (student_name, age, assignment_grade) VALUES ('David', 15, 92.0);\n",
    "INSERT INTO students (student_name, age, assignment_grade) VALUES ('Sophia', 16, 88.5);"
   ]
  },
  {
   "cell_type": "code",
   "execution_count": 8,
   "metadata": {
    "vscode": {
     "languageId": "sql"
    }
   },
   "outputs": [
    {
     "name": "stdout",
     "output_type": "stream",
     "text": [
      " * sqlite:///mydatabase.db\n",
      "Done.\n"
     ]
    },
    {
     "data": {
      "text/html": [
       "<table>\n",
       "    <thead>\n",
       "        <tr>\n",
       "            <th>student_name</th>\n",
       "            <th>age</th>\n",
       "            <th>assignment_grade</th>\n",
       "        </tr>\n",
       "    </thead>\n",
       "    <tbody>\n",
       "        <tr>\n",
       "            <td>Tommy</td>\n",
       "            <td>14</td>\n",
       "            <td>85.5</td>\n",
       "        </tr>\n",
       "        <tr>\n",
       "            <td>Emily</td>\n",
       "            <td>15</td>\n",
       "            <td>89.0</td>\n",
       "        </tr>\n",
       "        <tr>\n",
       "            <td>Michael</td>\n",
       "            <td>16</td>\n",
       "            <td>91.0</td>\n",
       "        </tr>\n",
       "        <tr>\n",
       "            <td>Sarah</td>\n",
       "            <td>14</td>\n",
       "            <td>87.5</td>\n",
       "        </tr>\n",
       "        <tr>\n",
       "            <td>David</td>\n",
       "            <td>15</td>\n",
       "            <td>92.0</td>\n",
       "        </tr>\n",
       "        <tr>\n",
       "            <td>Sophia</td>\n",
       "            <td>16</td>\n",
       "            <td>88.5</td>\n",
       "        </tr>\n",
       "        <tr>\n",
       "            <td>Tommy</td>\n",
       "            <td>14</td>\n",
       "            <td>85.5</td>\n",
       "        </tr>\n",
       "        <tr>\n",
       "            <td>Emily</td>\n",
       "            <td>15</td>\n",
       "            <td>89.0</td>\n",
       "        </tr>\n",
       "        <tr>\n",
       "            <td>Michael</td>\n",
       "            <td>16</td>\n",
       "            <td>91.0</td>\n",
       "        </tr>\n",
       "        <tr>\n",
       "            <td>Sarah</td>\n",
       "            <td>14</td>\n",
       "            <td>87.5</td>\n",
       "        </tr>\n",
       "        <tr>\n",
       "            <td>David</td>\n",
       "            <td>15</td>\n",
       "            <td>92.0</td>\n",
       "        </tr>\n",
       "        <tr>\n",
       "            <td>Sophia</td>\n",
       "            <td>16</td>\n",
       "            <td>88.5</td>\n",
       "        </tr>\n",
       "    </tbody>\n",
       "</table>"
      ],
      "text/plain": [
       "[('Tommy', 14, 85.5),\n",
       " ('Emily', 15, 89.0),\n",
       " ('Michael', 16, 91.0),\n",
       " ('Sarah', 14, 87.5),\n",
       " ('David', 15, 92.0),\n",
       " ('Sophia', 16, 88.5),\n",
       " ('Tommy', 14, 85.5),\n",
       " ('Emily', 15, 89.0),\n",
       " ('Michael', 16, 91.0),\n",
       " ('Sarah', 14, 87.5),\n",
       " ('David', 15, 92.0),\n",
       " ('Sophia', 16, 88.5)]"
      ]
     },
     "execution_count": 8,
     "metadata": {},
     "output_type": "execute_result"
    }
   ],
   "source": [
    "%%sql\n",
    "SELECT * FROM students"
   ]
  },
  {
   "cell_type": "markdown",
   "metadata": {},
   "source": [
    "## Popcorn/Homework Hack:\n",
    "Period 3 CSA was very good and the substitute teacher left a very positive note. Because of this Mr. Mortensen has decided to give all of his students a 10% increase on their assignment grade. \n",
    "\n",
    "Create an SQL query that returns a table with the Student names and a new collumn called bonus_score which has the assignment_grade with the added 10% bonus. \n",
    "Hint: use advanced query methods."
   ]
  },
  {
   "cell_type": "code",
   "execution_count": null,
   "metadata": {
    "vscode": {
     "languageId": "sql"
    }
   },
   "outputs": [],
   "source": [
    "%%sql\n",
    "-- Your Query Here:\n"
   ]
  },
  {
   "cell_type": "markdown",
   "metadata": {},
   "source": [
    "## Joins:\n",
    "\n",
    "Joins are a way to combine data from multiple tables.\n",
    "![Image](https://github.com/user-attachments/assets/7046bf4d-0f7c-41f0-b9a2-57fdf4c1cd22)"
   ]
  },
  {
   "cell_type": "code",
   "execution_count": 9,
   "metadata": {
    "vscode": {
     "languageId": "sql"
    }
   },
   "outputs": [
    {
     "name": "stdout",
     "output_type": "stream",
     "text": [
      " * sqlite:///mydatabase.db\n",
      "Done.\n",
      "1 rows affected.\n",
      "1 rows affected.\n",
      "1 rows affected.\n",
      "1 rows affected.\n",
      "1 rows affected.\n",
      "1 rows affected.\n",
      "1 rows affected.\n"
     ]
    },
    {
     "data": {
      "text/plain": [
       "[]"
      ]
     },
     "execution_count": 9,
     "metadata": {},
     "output_type": "execute_result"
    }
   ],
   "source": [
    "%%sql\n",
    "CREATE TABLE student_grades (\n",
    "    student_name VARCHAR,\n",
    "    letter_grade CHAR(1)\n",
    ");\n",
    "\n",
    "INSERT INTO student_grades (student_name, letter_grade) VALUES ('Tommy', 'B');\n",
    "INSERT INTO student_grades (student_name, letter_grade) VALUES ('Emily', 'B+');\n",
    "INSERT INTO student_grades (student_name, letter_grade) VALUES ('Michael', 'A-');\n",
    "INSERT INTO student_grades (student_name, letter_grade) VALUES ('Sarah', 'B');\n",
    "INSERT INTO student_grades (student_name, letter_grade) VALUES ('David', 'A');\n",
    "INSERT INTO student_grades (student_name, letter_grade) VALUES ('Sophia', 'B+');\n",
    "INSERT INTO student_grades (student_name, letter_grade) VALUES ('Jimmy', 'B+');"
   ]
  },
  {
   "cell_type": "markdown",
   "metadata": {},
   "source": [
    "inner join:"
   ]
  },
  {
   "cell_type": "code",
   "execution_count": null,
   "metadata": {
    "vscode": {
     "languageId": "sql"
    }
   },
   "outputs": [],
   "source": [
    "%%sql\n",
    "SELECT students.student_name, students.age, students.assignment_grade, student_grades.letter_grade\n",
    "FROM students\n",
    "JOIN student_grades\n",
    "ON students.student_name = student_grades.student_name;"
   ]
  },
  {
   "cell_type": "markdown",
   "metadata": {},
   "source": [
    "## PBL Example\n",
    "\n",
    "![Image](https://github.com/user-attachments/assets/66537ef0-2b36-4f8c-8723-8f57defd2a18)"
   ]
  },
  {
   "cell_type": "markdown",
   "metadata": {},
   "source": [
    "Spring JPA automates the process of creating SQL querys through a set naming convention. The same outcome could be achieved with the query seen below. "
   ]
  },
  {
   "cell_type": "code",
   "execution_count": null,
   "metadata": {
    "vscode": {
     "languageId": "sql"
    }
   },
   "outputs": [],
   "source": [
    "%%sql\n",
    "SELECT * \n",
    "FROM students \n",
    "WHERE student_name = 'John';"
   ]
  }
 ],
 "metadata": {
  "kernelspec": {
   "display_name": "Python 3",
   "language": "python",
   "name": "python3"
  },
  "language_info": {
   "codemirror_mode": {
    "name": "ipython",
    "version": 3
   },
   "file_extension": ".py",
   "mimetype": "text/x-python",
   "name": "python",
   "nbconvert_exporter": "python",
   "pygments_lexer": "ipython3",
   "version": "3.10.12"
  }
 },
 "nbformat": 4,
 "nbformat_minor": 2
}
