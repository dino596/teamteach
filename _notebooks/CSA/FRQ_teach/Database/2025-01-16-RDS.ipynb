{
 "cells": [
  {
   "cell_type": "markdown",
   "metadata": {},
   "source": [
    "---\n",
    "layout: post\n",
    "toc: true\n",
    "title: Amazon RDS\n",
    "categories: [AP CSA]\n",
    "courses: { csa: {week: 17} }\n",
    "author: Arthur, Nikhil, Aditya\n",
    "permalink: /period3/frq/database/rds\n",
    "---"
   ]
  },
  {
   "cell_type": "markdown",
   "metadata": {},
   "source": [
    "# The Amazon Relational Database Service\n",
    "\n",
    "Amazon Relational Database Service (RDS) is a paid service ran by Amazon Web Service (AWS).\n",
    "RDS allows the use of many different database engines, such as MySQL, PostgreSQL, Oracle, SQL Server, and etc.\n",
    "\n",
    "Database management "
   ]
  },
  {
   "cell_type": "markdown",
   "metadata": {},
   "source": []
  }
 ],
 "metadata": {
  "language_info": {
   "name": "python"
  }
 },
 "nbformat": 4,
 "nbformat_minor": 2
}
