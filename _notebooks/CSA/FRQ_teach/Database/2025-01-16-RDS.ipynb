{
 "cells": [
  {
   "cell_type": "markdown",
   "metadata": {},
   "source": [
    "---\n",
    "layout: post\n",
    "toc: true\n",
    "title: Amazon RDS\n",
    "categories: [AP CSA]\n",
    "courses: { csa: {week: 17} }\n",
    "author: Arthur, Nikhil, Aditya\n",
    "permalink: /period3/frq/database/rds\n",
    "---"
   ]
  },
  {
   "cell_type": "markdown",
   "metadata": {},
   "source": [
    "# The Amazon Relational Database Service\n"
   ]
  }
 ],
 "metadata": {
  "language_info": {
   "name": "python"
  }
 },
 "nbformat": 4,
 "nbformat_minor": 2
}
