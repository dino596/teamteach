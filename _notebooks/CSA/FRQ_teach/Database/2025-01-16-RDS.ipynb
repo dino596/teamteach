{
 "cells": [
  {
   "cell_type": "markdown",
   "metadata": {},
   "source": [
    "---\n",
    "layout: post\n",
    "toc: true\n",
    "title: Amazon RDS\n",
    "categories: [AP CSA]\n",
    "courses: { csa: {week: 17} }\n",
    "author: Arthur, Nikhil, Aditya\n",
    "permalink: /period3/frq/database/rds\n",
    "---"
   ]
  },
  {
   "cell_type": "markdown",
   "metadata": {},
   "source": [
    "# The Amazon Relational Database Service\n",
    "\n",
    "Amazon Relational Database Service (RDS) is a paid service ran by Amazon Web Service (AWS).\n",
    "RDS allows the use of many different database engines, such as MySQL, PostgreSQL, Oracle, SQL Server, and etc. It is also very compatible with other AWS services, including Lambda and EC2.\n",
    "\n",
    "For Nighthawk Coders CSA, we use RDS to deploy our KASM backend.\n",
    "\n",
    "## RDS Setup Guide:\n",
    "https://nighthawkcoders.github.io/portfolio_2025/kasm/database/rds"
   ]
  },
  {
   "cell_type": "markdown",
   "metadata": {},
   "source": []
  }
 ],
 "metadata": {
  "language_info": {
   "name": "python"
  }
 },
 "nbformat": 4,
 "nbformat_minor": 2
}
